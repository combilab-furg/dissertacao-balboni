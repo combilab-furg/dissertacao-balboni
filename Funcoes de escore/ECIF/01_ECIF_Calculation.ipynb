{
 "cells": [
  {
   "cell_type": "code",
   "execution_count": 1,
   "metadata": {},
   "outputs": [],
   "source": [
    "import numpy as np\n",
    "import pandas as pd\n",
    "from os import listdir\n",
    "from rdkit import Chem\n",
    "from scipy.spatial.distance import cdist\n",
    "from itertools import product\n",
    "from rdkit.ML.Descriptors.MoleculeDescriptors import MolecularDescriptorCalculator"
   ]
  },
  {
   "cell_type": "markdown",
   "metadata": {},
   "source": [
    "### Loading useful data"
   ]
  },
  {
   "cell_type": "markdown",
   "metadata": {},
   "source": [
    "### For ECIF"
   ]
  },
  {
   "cell_type": "code",
   "execution_count": 2,
   "metadata": {},
   "outputs": [],
   "source": [
    "# Possible predefined protein atoms\n",
    "ECIF_ProteinAtoms = ['C;4;1;3;0;0', 'C;4;2;1;1;1', 'C;4;2;2;0;0', 'C;4;2;2;0;1',\n",
    "                     'C;4;3;0;0;0', 'C;4;3;0;1;1', 'C;4;3;1;0;0', 'C;4;3;1;0;1',\n",
    "                     'C;5;3;0;0;0', 'C;6;3;0;0;0', 'N;3;1;2;0;0', 'N;3;2;0;1;1',\n",
    "                     'N;3;2;1;0;0', 'N;3;2;1;1;1', 'N;3;3;0;0;1', 'N;4;1;2;0;0',\n",
    "                     'N;4;1;3;0;0', 'N;4;2;1;0;0', 'O;2;1;0;0;0', 'O;2;1;1;0;0',\n",
    "                     'S;2;1;1;0;0', 'S;2;2;0;0;0']\n",
    "\n",
    "# Possible ligand atoms according to the PDBbind 2016 \"refined set\"\n",
    "ECIF_LigandAtoms = ['Br;1;1;0;0;0', 'C;3;3;0;1;1', 'C;4;1;1;0;0', 'C;4;1;2;0;0',\n",
    "                     'C;4;1;3;0;0', 'C;4;2;0;0;0', 'C;4;2;1;0;0', 'C;4;2;1;0;1',\n",
    "                     'C;4;2;1;1;1', 'C;4;2;2;0;0', 'C;4;2;2;0;1', 'C;4;3;0;0;0',\n",
    "                     'C;4;3;0;0;1', 'C;4;3;0;1;1', 'C;4;3;1;0;0', 'C;4;3;1;0;1',\n",
    "                     'C;4;4;0;0;0', 'C;4;4;0;0;1', 'C;5;3;0;0;0', 'C;5;3;0;1;1',\n",
    "                     'C;6;3;0;0;0', 'Cl;1;1;0;0;0', 'F;1;1;0;0;0', 'I;1;1;0;0;0',\n",
    "                     'N;3;1;0;0;0', 'N;3;1;1;0;0', 'N;3;1;2;0;0', 'N;3;2;0;0;0',\n",
    "                     'N;3;2;0;0;1', 'N;3;2;0;1;1', 'N;3;2;1;0;0', 'N;3;2;1;0;1',\n",
    "                     'N;3;2;1;1;1', 'N;3;3;0;0;0', 'N;3;3;0;0;1', 'N;3;3;0;1;1',\n",
    "                     'N;4;1;2;0;0', 'N;4;1;3;0;0', 'N;4;2;1;0;0', 'N;4;2;2;0;0',\n",
    "                     'N;4;2;2;0;1', 'N;4;3;0;0;0', 'N;4;3;0;0;1', 'N;4;3;1;0;0',\n",
    "                     'N;4;3;1;0;1', 'N;4;4;0;0;0', 'N;4;4;0;0;1', 'N;5;2;0;0;0',\n",
    "                     'N;5;3;0;0;0', 'N;5;3;0;1;1', 'O;2;1;0;0;0', 'O;2;1;1;0;0',\n",
    "                     'O;2;2;0;0;0', 'O;2;2;0;0;1', 'O;2;2;0;1;1', 'P;5;4;0;0;0',\n",
    "                     'P;6;4;0;0;0', 'P;6;4;0;0;1', 'P;7;4;0;0;0', 'S;2;1;0;0;0',\n",
    "                     'S;2;1;1;0;0', 'S;2;2;0;0;0', 'S;2;2;0;0;1', 'S;2;2;0;1;1',\n",
    "                     'S;3;3;0;0;0', 'S;3;3;0;0;1', 'S;4;3;0;0;0', 'S;6;4;0;0;0',\n",
    "                     'S;6;4;0;0;1', 'S;7;4;0;0;0']\n",
    "\n",
    "PossibleECIF = [i[0]+\"-\"+i[1] for i in product(ECIF_ProteinAtoms, ECIF_LigandAtoms)]"
   ]
  },
  {
   "cell_type": "markdown",
   "metadata": {},
   "source": [
    "### For ELEMENTS"
   ]
  },
  {
   "cell_type": "code",
   "execution_count": 3,
   "metadata": {},
   "outputs": [],
   "source": [
    "ELEMENTS_ProteinAtoms = [\"C\",\"N\",\"O\", \"S\"]\n",
    "ELEMENTS_LigandAtoms = [\"Br\", \"C\", \"Cl\", \"F\", \"I\", \"N\", \"O\", \"P\", \"S\"]\n",
    "PossibleELEMENTS = [i[0]+\"-\"+i[1] for i in product(ELEMENTS_ProteinAtoms, ELEMENTS_LigandAtoms)]"
   ]
  },
  {
   "cell_type": "markdown",
   "metadata": {},
   "source": [
    "### For ligand descriptors"
   ]
  },
  {
   "cell_type": "code",
   "execution_count": 4,
   "metadata": {},
   "outputs": [],
   "source": [
    "LigandDescriptors = ['MaxEStateIndex', 'MinEStateIndex', 'MaxAbsEStateIndex', 'MinAbsEStateIndex',\n",
    "                      'qed', 'MolWt', 'HeavyAtomMolWt', 'ExactMolWt', 'NumValenceElectrons',\n",
    "                      'FpDensityMorgan1', 'FpDensityMorgan2', 'FpDensityMorgan3', 'BalabanJ',\n",
    "                      'BertzCT', 'Chi0', 'Chi0n', 'Chi0v', 'Chi1', 'Chi1n', 'Chi1v', 'Chi2n',\n",
    "                      'Chi2v', 'Chi3n', 'Chi3v', 'Chi4n', 'Chi4v', 'HallKierAlpha', 'Kappa1',\n",
    "                      'Kappa2', 'Kappa3', 'LabuteASA', 'PEOE_VSA14', 'SMR_VSA1', 'SMR_VSA10',\n",
    "                      'SMR_VSA2', 'SMR_VSA3', 'SMR_VSA4', 'SMR_VSA5', 'SMR_VSA6', 'SMR_VSA7',\n",
    "                      'SMR_VSA9', 'SlogP_VSA1', 'SlogP_VSA10', 'SlogP_VSA11', 'SlogP_VSA12',\n",
    "                      'SlogP_VSA2', 'SlogP_VSA3', 'SlogP_VSA4', 'SlogP_VSA5', 'SlogP_VSA6',\n",
    "                      'SlogP_VSA7', 'SlogP_VSA8', 'TPSA', 'EState_VSA1', 'EState_VSA10',\n",
    "                      'EState_VSA11', 'EState_VSA2', 'EState_VSA3', 'EState_VSA4', 'EState_VSA5',\n",
    "                      'EState_VSA6', 'EState_VSA7', 'EState_VSA8', 'EState_VSA9', 'VSA_EState1',\n",
    "                      'VSA_EState10', 'VSA_EState2', 'VSA_EState3', 'VSA_EState4', 'VSA_EState5',\n",
    "                      'VSA_EState6', 'VSA_EState7', 'VSA_EState8', 'VSA_EState9', 'FractionCSP3',\n",
    "                      'HeavyAtomCount', 'NHOHCount', 'NOCount', 'NumAliphaticCarbocycles',\n",
    "                      'NumAliphaticHeterocycles', 'NumAliphaticRings', 'NumAromaticCarbocycles',\n",
    "                      'NumAromaticHeterocycles', 'NumAromaticRings', 'NumHAcceptors', 'NumHDonors',\n",
    "                      'NumHeteroatoms', 'NumRotatableBonds', 'NumSaturatedCarbocycles',\n",
    "                      'NumSaturatedHeterocycles', 'NumSaturatedRings', 'RingCount', 'MolLogP',\n",
    "                      'MolMR', 'fr_Al_COO', 'fr_Al_OH', 'fr_Al_OH_noTert', 'fr_ArN', 'fr_Ar_N',\n",
    "                      'fr_Ar_NH', 'fr_Ar_OH', 'fr_COO', 'fr_COO2', 'fr_C_O', 'fr_C_O_noCOO',\n",
    "                      'fr_C_S', 'fr_HOCCN', 'fr_Imine', 'fr_NH0', 'fr_NH1', 'fr_NH2', 'fr_N_O',\n",
    "                      'fr_Ndealkylation1', 'fr_Ndealkylation2', 'fr_Nhpyrrole', 'fr_SH', 'fr_aldehyde',\n",
    "                      'fr_alkyl_carbamate', 'fr_alkyl_halide', 'fr_allylic_oxid', 'fr_amide',\n",
    "                      'fr_amidine', 'fr_aniline', 'fr_aryl_methyl', 'fr_azo', 'fr_barbitur',\n",
    "                      'fr_benzene', 'fr_bicyclic', 'fr_dihydropyridine', 'fr_epoxide', 'fr_ester',\n",
    "                      'fr_ether', 'fr_furan', 'fr_guanido', 'fr_halogen', 'fr_hdrzine', 'fr_hdrzone',\n",
    "                      'fr_imidazole', 'fr_imide', 'fr_isocyan', 'fr_isothiocyan', 'fr_ketone',\n",
    "                      'fr_ketone_Topliss', 'fr_lactam', 'fr_lactone', 'fr_methoxy', 'fr_morpholine',\n",
    "                      'fr_nitrile', 'fr_nitro', 'fr_nitro_arom', 'fr_nitroso', 'fr_oxazole',\n",
    "                      'fr_oxime', 'fr_para_hydroxylation', 'fr_phenol', 'fr_phenol_noOrthoHbond',\n",
    "                      'fr_piperdine', 'fr_piperzine', 'fr_priamide', 'fr_pyridine', 'fr_quatN',\n",
    "                      'fr_sulfide', 'fr_sulfonamd', 'fr_sulfone', 'fr_term_acetylene', 'fr_tetrazole',\n",
    "                      'fr_thiazole', 'fr_thiocyan', 'fr_thiophene', 'fr_urea']\n",
    "\n",
    "DescCalc = MolecularDescriptorCalculator(LigandDescriptors)"
   ]
  },
  {
   "cell_type": "markdown",
   "metadata": {},
   "source": [
    "### An atom type from EFIC is defined as:\n",
    "    Atom symbol;\n",
    "    Explicit valence;\n",
    "    Attached heavy atoms;\n",
    "    Attached hydrogens;\n",
    "    Aromaticity;\n",
    "    Ring membership"
   ]
  },
  {
   "cell_type": "code",
   "execution_count": 5,
   "metadata": {},
   "outputs": [],
   "source": [
    "def GetAtomType(atom):\n",
    "# This function takes an atom in a molecule and returns its type as defined for ECIF\n",
    "    \n",
    "    AtomType = [atom.GetSymbol(),\n",
    "                str(atom.GetExplicitValence()),\n",
    "                str(len([x.GetSymbol() for x in atom.GetNeighbors() if x.GetSymbol() != \"H\"])),\n",
    "                str(len([x.GetSymbol() for x in atom.GetNeighbors() if x.GetSymbol() == \"H\"])),\n",
    "                str(int(atom.GetIsAromatic())),\n",
    "                str(int(atom.IsInRing())), \n",
    "               ]\n",
    "\n",
    "    return(\";\".join(AtomType))"
   ]
  },
  {
   "cell_type": "markdown",
   "metadata": {},
   "source": [
    "### Ligands are loaded from an SDF file in a dataframe format considering the atom type definitions"
   ]
  },
  {
   "cell_type": "code",
   "execution_count": 6,
   "metadata": {},
   "outputs": [],
   "source": [
    "def LoadSDFasDF(SDF):\n",
    "# This function takes an SDF for a ligand as input and returns it as a pandas DataFrame with its atom types labeled according to ECIF\n",
    "    \n",
    "    m = Chem.MolFromMolFile(SDF, sanitize=False)\n",
    "    m.UpdatePropertyCache(strict=False)\n",
    "    \n",
    "    ECIF_atoms = []\n",
    "\n",
    "    for atom in m.GetAtoms():\n",
    "        if atom.GetSymbol() != \"H\": # Include only non-hydrogen atoms\n",
    "            entry = [int(atom.GetIdx())]\n",
    "            entry.append(GetAtomType(atom))\n",
    "            pos = m.GetConformer().GetAtomPosition(atom.GetIdx())\n",
    "            entry.append(float(\"{0:.4f}\".format(pos.x)))\n",
    "            entry.append(float(\"{0:.4f}\".format(pos.y)))\n",
    "            entry.append(float(\"{0:.4f}\".format(pos.z)))\n",
    "            ECIF_atoms.append(entry)\n",
    "\n",
    "    df = pd.DataFrame(ECIF_atoms)\n",
    "    df.columns = [\"ATOM_INDEX\", \"ECIF_ATOM_TYPE\",\"X\",\"Y\",\"Z\"]\n",
    "    if len(set(df[\"ECIF_ATOM_TYPE\"]) - set(ECIF_LigandAtoms)) > 0:\n",
    "        print(\"WARNING: Ligand contains unsupported atom types. Only supported atom-type pairs are counted.\")\n",
    "    return(df)"
   ]
  },
  {
   "cell_type": "code",
   "execution_count": 7,
   "metadata": {},
   "outputs": [],
   "source": [
    "Atom_Keys=pd.read_csv(\"PDB_Atom_Keys.csv\", sep=\",\")\n",
    "def LoadPDBasDF(PDB):\n",
    "# This function takes a PDB for a protein as input and returns it as a pandas DataFrame with its atom types labeled according to ECIF\n",
    "\n",
    "    ECIF_atoms = []\n",
    "    \n",
    "    f = open(PDB)\n",
    "    for i in f:\n",
    "        if i[:4] == \"ATOM\":\n",
    "            # Include only non-hydrogen atoms\n",
    "            if (len(i[12:16].replace(\" \",\"\")) < 4 and i[12:16].replace(\" \",\"\")[0] != \"H\") or (len(i[12:16].replace(\" \",\"\")) == 4 and i[12:16].replace(\" \",\"\")[1] != \"H\" and i[12:16].replace(\" \",\"\")[0] != \"H\"):\n",
    "                ECIF_atoms.append([int(i[6:11]),\n",
    "                         i[17:20]+\"-\"+i[12:16].replace(\" \",\"\"),\n",
    "                         float(i[30:38]),\n",
    "                         float(i[38:46]),\n",
    "                         float(i[46:54])\n",
    "                        ])\n",
    "                \n",
    "    f.close()\n",
    "    \n",
    "    df = pd.DataFrame(ECIF_atoms, columns=[\"ATOM_INDEX\",\"PDB_ATOM\",\"X\",\"Y\",\"Z\"])\n",
    "    df = df.merge(Atom_Keys, left_on='PDB_ATOM', right_on='PDB_ATOM')[[\"ATOM_INDEX\", \"ECIF_ATOM_TYPE\", \"X\", \"Y\", \"Z\"]].sort_values(by=\"ATOM_INDEX\").reset_index(drop=True)\n",
    "    if list(df[\"ECIF_ATOM_TYPE\"].isna()).count(True) > 0:\n",
    "        print(\"WARNING: Protein contains unsupported atom types. Only supported atom-type pairs are counted.\")\n",
    "    return(df)"
   ]
  },
  {
   "cell_type": "code",
   "execution_count": 8,
   "metadata": {},
   "outputs": [],
   "source": [
    "def GetPLPairs(PDB_protein, SDF_ligand, distance_cutoff=6.0):\n",
    "# This function returns the protein-ligand atom-type pairs for a given distance cutoff\n",
    "    \n",
    "    # Load both structures as pandas DataFrames\n",
    "    Target = LoadPDBasDF(PDB_protein)\n",
    "    Ligand = LoadSDFasDF(SDF_ligand)\n",
    "    \n",
    "    # Take all atoms from the target within a cubic box around the ligand considering the \"distance_cutoff criterion\"\n",
    "    for i in [\"X\",\"Y\",\"Z\"]:\n",
    "        Target = Target[Target[i] < float(Ligand[i].max())+distance_cutoff]\n",
    "        Target = Target[Target[i] > float(Ligand[i].min())-distance_cutoff]\n",
    "    \n",
    "    # Get all possible pairs\n",
    "    Pairs = list(product(Target[\"ECIF_ATOM_TYPE\"], Ligand[\"ECIF_ATOM_TYPE\"]))\n",
    "    Pairs = [x[0]+\"-\"+x[1] for x in Pairs]\n",
    "    Pairs = pd.DataFrame(Pairs, columns=[\"ECIF_PAIR\"])\n",
    "    Distances = cdist(Target[[\"X\",\"Y\",\"Z\"]], Ligand[[\"X\",\"Y\",\"Z\"]], metric=\"euclidean\")\n",
    "    Distances = Distances.reshape(Distances.shape[0]*Distances.shape[1],1)\n",
    "    Distances = pd.DataFrame(Distances, columns=[\"DISTANCE\"])\n",
    "\n",
    "    Pairs = pd.concat([Pairs,Distances], axis=1)\n",
    "    Pairs = Pairs[Pairs[\"DISTANCE\"] <= distance_cutoff].reset_index(drop=True)\n",
    "    # Pairs from ELEMENTS could be easily obtained froms pairs from ECIF\n",
    "    Pairs[\"ELEMENTS_PAIR\"] = [x.split(\"-\")[0].split(\";\")[0]+\"-\"+x.split(\"-\")[1].split(\";\")[0] for x in Pairs[\"ECIF_PAIR\"]]\n",
    "    return Pairs"
   ]
  },
  {
   "cell_type": "markdown",
   "metadata": {},
   "source": [
    "### Calculation of ECIF"
   ]
  },
  {
   "cell_type": "code",
   "execution_count": 9,
   "metadata": {},
   "outputs": [],
   "source": [
    "def GetECIF(PDB_protein, SDF_ligand, distance_cutoff=6.0):\n",
    "# Main function for the calculation of ECIF\n",
    "    Pairs = GetPLPairs(PDB_protein, SDF_ligand, distance_cutoff=distance_cutoff)\n",
    "    ECIF = [list(Pairs[\"ECIF_PAIR\"]).count(x) for x in PossibleECIF]\n",
    "    return ECIF"
   ]
  },
  {
   "cell_type": "markdown",
   "metadata": {},
   "source": [
    "### Calculation of ELEMENTS"
   ]
  },
  {
   "cell_type": "code",
   "execution_count": 10,
   "metadata": {},
   "outputs": [],
   "source": [
    "def GetELEMENTS(PDB_protein, SDF_ligand, distance_cutoff=6.0):\n",
    "# Function for the calculation of ELEMENTS\n",
    "    Pairs = GetPLPairs(PDB_protein, SDF_ligand, distance_cutoff=distance_cutoff)\n",
    "    ELEMENTS = [list(Pairs[\"ELEMENTS_PAIR\"]).count(x) for x in PossibleELEMENTS]\n",
    "    return ELEMENTS"
   ]
  },
  {
   "cell_type": "markdown",
   "metadata": {},
   "source": [
    "### Ligand descriptors"
   ]
  },
  {
   "cell_type": "code",
   "execution_count": 11,
   "metadata": {},
   "outputs": [],
   "source": [
    "def GetRDKitDescriptors(SDF):\n",
    "# Function for the calculation of ligand descriptors\n",
    "    mol = Chem.MolFromMolFile(SDF, sanitize=False)\n",
    "    mol.UpdatePropertyCache(strict=False)\n",
    "    Chem.GetSymmSSSR(mol)\n",
    "    return DescCalc.CalcDescriptors(mol)"
   ]
  }
 ],
 "metadata": {
  "kernelspec": {
   "display_name": "Python 3",
   "language": "python",
   "name": "python3"
  },
  "language_info": {
   "codemirror_mode": {
    "name": "ipython",
    "version": 3
   },
   "file_extension": ".py",
   "mimetype": "text/x-python",
   "name": "python",
   "nbconvert_exporter": "python",
   "pygments_lexer": "ipython3",
   "version": "3.6.10"
  }
 },
 "nbformat": 4,
 "nbformat_minor": 4
}
