{
 "cells": [
  {
   "cell_type": "code",
   "execution_count": 1,
   "metadata": {},
   "outputs": [],
   "source": [
    "import pandas as pd\n",
    "from sklearn.ensemble import RandomForestRegressor\n",
    "from sklearn.ensemble import GradientBoostingRegressor\n",
    "from sklearn.metrics import mean_squared_error\n",
    "from scipy.stats import pearsonr\n",
    "from math import sqrt\n",
    "import pickle"
   ]
  },
  {
   "cell_type": "markdown",
   "metadata": {},
   "source": [
    "## Example for training of the model ECIF6::LD"
   ]
  },
  {
   "cell_type": "markdown",
   "metadata": {},
   "source": [
    "### Data preparation"
   ]
  },
  {
   "cell_type": "code",
   "execution_count": 2,
   "metadata": {},
   "outputs": [
    {
     "data": {
      "text/html": [
       "<div>\n",
       "<style scoped>\n",
       "    .dataframe tbody tr th:only-of-type {\n",
       "        vertical-align: middle;\n",
       "    }\n",
       "\n",
       "    .dataframe tbody tr th {\n",
       "        vertical-align: top;\n",
       "    }\n",
       "\n",
       "    .dataframe thead th {\n",
       "        text-align: right;\n",
       "    }\n",
       "</style>\n",
       "<table border=\"1\" class=\"dataframe\">\n",
       "  <thead>\n",
       "    <tr style=\"text-align: right;\">\n",
       "      <th></th>\n",
       "      <th>PDB</th>\n",
       "      <th>C;4;1;3;0;0-Br;1;1;0;0;0</th>\n",
       "      <th>C;4;1;3;0;0-C;3;3;0;1;1</th>\n",
       "      <th>C;4;1;3;0;0-C;4;1;1;0;0</th>\n",
       "      <th>C;4;1;3;0;0-C;4;1;2;0;0</th>\n",
       "      <th>C;4;1;3;0;0-C;4;1;3;0;0</th>\n",
       "      <th>C;4;1;3;0;0-C;4;2;0;0;0</th>\n",
       "      <th>C;4;1;3;0;0-C;4;2;1;0;0</th>\n",
       "      <th>C;4;1;3;0;0-C;4;2;1;0;1</th>\n",
       "      <th>C;4;1;3;0;0-C;4;2;1;1;1</th>\n",
       "      <th>...</th>\n",
       "      <th>fr_sulfonamd</th>\n",
       "      <th>fr_sulfone</th>\n",
       "      <th>fr_term_acetylene</th>\n",
       "      <th>fr_tetrazole</th>\n",
       "      <th>fr_thiazole</th>\n",
       "      <th>fr_thiocyan</th>\n",
       "      <th>fr_thiophene</th>\n",
       "      <th>fr_urea</th>\n",
       "      <th>SET</th>\n",
       "      <th>pK</th>\n",
       "    </tr>\n",
       "  </thead>\n",
       "  <tbody>\n",
       "    <tr>\n",
       "      <th>0</th>\n",
       "      <td>10gs</td>\n",
       "      <td>0</td>\n",
       "      <td>0</td>\n",
       "      <td>0</td>\n",
       "      <td>0</td>\n",
       "      <td>0</td>\n",
       "      <td>0</td>\n",
       "      <td>0</td>\n",
       "      <td>0</td>\n",
       "      <td>9</td>\n",
       "      <td>...</td>\n",
       "      <td>0</td>\n",
       "      <td>0</td>\n",
       "      <td>0</td>\n",
       "      <td>0</td>\n",
       "      <td>0</td>\n",
       "      <td>0</td>\n",
       "      <td>0</td>\n",
       "      <td>0</td>\n",
       "      <td>Train</td>\n",
       "      <td>6.40</td>\n",
       "    </tr>\n",
       "    <tr>\n",
       "      <th>1</th>\n",
       "      <td>11gs</td>\n",
       "      <td>0</td>\n",
       "      <td>0</td>\n",
       "      <td>0</td>\n",
       "      <td>0</td>\n",
       "      <td>2</td>\n",
       "      <td>0</td>\n",
       "      <td>0</td>\n",
       "      <td>0</td>\n",
       "      <td>0</td>\n",
       "      <td>...</td>\n",
       "      <td>0</td>\n",
       "      <td>0</td>\n",
       "      <td>0</td>\n",
       "      <td>0</td>\n",
       "      <td>0</td>\n",
       "      <td>0</td>\n",
       "      <td>0</td>\n",
       "      <td>0</td>\n",
       "      <td>Train</td>\n",
       "      <td>5.82</td>\n",
       "    </tr>\n",
       "    <tr>\n",
       "      <th>2</th>\n",
       "      <td>13gs</td>\n",
       "      <td>0</td>\n",
       "      <td>0</td>\n",
       "      <td>0</td>\n",
       "      <td>0</td>\n",
       "      <td>0</td>\n",
       "      <td>0</td>\n",
       "      <td>0</td>\n",
       "      <td>0</td>\n",
       "      <td>17</td>\n",
       "      <td>...</td>\n",
       "      <td>1</td>\n",
       "      <td>0</td>\n",
       "      <td>0</td>\n",
       "      <td>0</td>\n",
       "      <td>0</td>\n",
       "      <td>0</td>\n",
       "      <td>0</td>\n",
       "      <td>0</td>\n",
       "      <td>Train</td>\n",
       "      <td>4.62</td>\n",
       "    </tr>\n",
       "    <tr>\n",
       "      <th>3</th>\n",
       "      <td>16pk</td>\n",
       "      <td>0</td>\n",
       "      <td>0</td>\n",
       "      <td>0</td>\n",
       "      <td>0</td>\n",
       "      <td>0</td>\n",
       "      <td>0</td>\n",
       "      <td>0</td>\n",
       "      <td>0</td>\n",
       "      <td>9</td>\n",
       "      <td>...</td>\n",
       "      <td>0</td>\n",
       "      <td>0</td>\n",
       "      <td>0</td>\n",
       "      <td>0</td>\n",
       "      <td>0</td>\n",
       "      <td>0</td>\n",
       "      <td>0</td>\n",
       "      <td>0</td>\n",
       "      <td>Train</td>\n",
       "      <td>5.22</td>\n",
       "    </tr>\n",
       "    <tr>\n",
       "      <th>4</th>\n",
       "      <td>184l</td>\n",
       "      <td>0</td>\n",
       "      <td>0</td>\n",
       "      <td>0</td>\n",
       "      <td>0</td>\n",
       "      <td>15</td>\n",
       "      <td>0</td>\n",
       "      <td>0</td>\n",
       "      <td>0</td>\n",
       "      <td>44</td>\n",
       "      <td>...</td>\n",
       "      <td>0</td>\n",
       "      <td>0</td>\n",
       "      <td>0</td>\n",
       "      <td>0</td>\n",
       "      <td>0</td>\n",
       "      <td>0</td>\n",
       "      <td>0</td>\n",
       "      <td>0</td>\n",
       "      <td>Train</td>\n",
       "      <td>4.72</td>\n",
       "    </tr>\n",
       "  </tbody>\n",
       "</table>\n",
       "<p>5 rows × 1713 columns</p>\n",
       "</div>"
      ],
      "text/plain": [
       "    PDB  C;4;1;3;0;0-Br;1;1;0;0;0  C;4;1;3;0;0-C;3;3;0;1;1  \\\n",
       "0  10gs                         0                        0   \n",
       "1  11gs                         0                        0   \n",
       "2  13gs                         0                        0   \n",
       "3  16pk                         0                        0   \n",
       "4  184l                         0                        0   \n",
       "\n",
       "   C;4;1;3;0;0-C;4;1;1;0;0  C;4;1;3;0;0-C;4;1;2;0;0  C;4;1;3;0;0-C;4;1;3;0;0  \\\n",
       "0                        0                        0                        0   \n",
       "1                        0                        0                        2   \n",
       "2                        0                        0                        0   \n",
       "3                        0                        0                        0   \n",
       "4                        0                        0                       15   \n",
       "\n",
       "   C;4;1;3;0;0-C;4;2;0;0;0  C;4;1;3;0;0-C;4;2;1;0;0  C;4;1;3;0;0-C;4;2;1;0;1  \\\n",
       "0                        0                        0                        0   \n",
       "1                        0                        0                        0   \n",
       "2                        0                        0                        0   \n",
       "3                        0                        0                        0   \n",
       "4                        0                        0                        0   \n",
       "\n",
       "   C;4;1;3;0;0-C;4;2;1;1;1  ...  fr_sulfonamd  fr_sulfone  fr_term_acetylene  \\\n",
       "0                        9  ...             0           0                  0   \n",
       "1                        0  ...             0           0                  0   \n",
       "2                       17  ...             1           0                  0   \n",
       "3                        9  ...             0           0                  0   \n",
       "4                       44  ...             0           0                  0   \n",
       "\n",
       "   fr_tetrazole  fr_thiazole  fr_thiocyan  fr_thiophene  fr_urea    SET    pK  \n",
       "0             0            0            0             0        0  Train  6.40  \n",
       "1             0            0            0             0        0  Train  5.82  \n",
       "2             0            0            0             0        0  Train  4.62  \n",
       "3             0            0            0             0        0  Train  5.22  \n",
       "4             0            0            0             0        0  Train  4.72  \n",
       "\n",
       "[5 rows x 1713 columns]"
      ]
     },
     "execution_count": 2,
     "metadata": {},
     "output_type": "execute_result"
    }
   ],
   "source": [
    "ecif = pd.read_csv(\"Descriptors/ECIF_6.0.csv\") # Load ECIF (Compressed File)\n",
    "ligand_descriptors = pd.read_csv(\"Descriptors/RDKit_Descriptors.csv\") # Load ligand descriptors\n",
    "binding_data = pd.read_csv(\"Descriptors/BindingData.csv\") # Load binding affinity data\n",
    "\n",
    "# Merge descriptors\n",
    "ecif = ecif.merge(ligand_descriptors, left_on=\"PDB\", right_on=\"PDB\")\n",
    "ecif = ecif.merge(binding_data, left_on=\"PDB\", right_on=\"PDB\")\n",
    "ecif.head()"
   ]
  },
  {
   "cell_type": "code",
   "execution_count": 3,
   "metadata": {},
   "outputs": [
    {
     "name": "stdout",
     "output_type": "stream",
     "text": [
      "9299 285\n"
     ]
    }
   ],
   "source": [
    "# Split training and test sets\n",
    "x_train = ecif[ecif[\"SET\"] == \"Train\"][list(ecif.columns)[1:-2]]\n",
    "y_train = ecif[ecif[\"SET\"] == \"Train\"][\"pK\"]\n",
    "\n",
    "x_test = ecif[ecif[\"SET\"] == \"Test\"][list(ecif.columns)[1:-2]]\n",
    "y_test = ecif[ecif[\"SET\"] == \"Test\"][\"pK\"]\n",
    "\n",
    "print(x_train.shape[0], x_test.shape[0])"
   ]
  },
  {
   "cell_type": "markdown",
   "metadata": {},
   "source": [
    "### Random Forest"
   ]
  },
  {
   "cell_type": "code",
   "execution_count": 4,
   "metadata": {},
   "outputs": [
    {
     "data": {
      "text/plain": [
       "RandomForestRegressor(bootstrap=True, ccp_alpha=0.0, criterion='mse',\n",
       "                      max_depth=None, max_features=0.33, max_leaf_nodes=None,\n",
       "                      max_samples=None, min_impurity_decrease=0.0,\n",
       "                      min_impurity_split=None, min_samples_leaf=1,\n",
       "                      min_samples_split=2, min_weight_fraction_leaf=0.0,\n",
       "                      n_estimators=500, n_jobs=8, oob_score=True,\n",
       "                      random_state=1206, verbose=0, warm_start=False)"
      ]
     },
     "execution_count": 4,
     "metadata": {},
     "output_type": "execute_result"
    }
   ],
   "source": [
    "RF = RandomForestRegressor(random_state=1206, n_estimators=500, n_jobs=8, oob_score=True, max_features=0.33)\n",
    "RF.fit(x_train,y_train)"
   ]
  },
  {
   "cell_type": "code",
   "execution_count": 5,
   "metadata": {},
   "outputs": [
    {
     "name": "stdout",
     "output_type": "stream",
     "text": [
      "Pearson correlation coefficient for RF:  0.8281494577006487\n",
      "RMSE for RF: 1.3478785313031998\n"
     ]
    }
   ],
   "source": [
    "y_pred_RF = RF.predict(x_test)\n",
    "print(\"Pearson correlation coefficient for RF: \", pearsonr(y_test,y_pred_RF)[0])\n",
    "print(\"RMSE for RF:\", sqrt(mean_squared_error(y_test,y_pred_RF)))"
   ]
  },
  {
   "cell_type": "markdown",
   "metadata": {},
   "source": [
    "### Gradient Boosting Trees"
   ]
  },
  {
   "cell_type": "code",
   "execution_count": 6,
   "metadata": {},
   "outputs": [
    {
     "data": {
      "text/plain": [
       "GradientBoostingRegressor(alpha=0.9, ccp_alpha=0.0, criterion='friedman_mse',\n",
       "                          init=None, learning_rate=0.005, loss='ls',\n",
       "                          max_depth=8, max_features='sqrt', max_leaf_nodes=None,\n",
       "                          min_impurity_decrease=0.0, min_impurity_split=None,\n",
       "                          min_samples_leaf=1, min_samples_split=3,\n",
       "                          min_weight_fraction_leaf=0.0, n_estimators=20000,\n",
       "                          n_iter_no_change=None, presort='deprecated',\n",
       "                          random_state=1206, subsample=0.7, tol=0.0001,\n",
       "                          validation_fraction=0.1, verbose=0, warm_start=False)"
      ]
     },
     "execution_count": 6,
     "metadata": {},
     "output_type": "execute_result"
    }
   ],
   "source": [
    "GBT = GradientBoostingRegressor(random_state=1206, n_estimators=20000, max_features=\"sqrt\", max_depth=8, min_samples_split=3, learning_rate=0.005, loss=\"ls\", subsample=0.7)\n",
    "GBT.fit(x_train,y_train)"
   ]
  },
  {
   "cell_type": "code",
   "execution_count": 7,
   "metadata": {},
   "outputs": [
    {
     "name": "stdout",
     "output_type": "stream",
     "text": [
      "Pearson correlation coefficient for GBT:  0.8659222014574945\n",
      "RMSE for GBT: 1.1689978852645881\n"
     ]
    }
   ],
   "source": [
    "y_pred_GBT = GBT.predict(x_test)\n",
    "print(\"Pearson correlation coefficient for GBT: \", pearsonr(y_test,y_pred_GBT)[0])\n",
    "print(\"RMSE for GBT:\", sqrt(mean_squared_error(y_test,y_pred_GBT)))"
   ]
  },
  {
   "cell_type": "markdown",
   "metadata": {},
   "source": [
    "### Saving the model\n"
   ]
  },
  {
   "cell_type": "code",
   "execution_count": 8,
   "metadata": {},
   "outputs": [],
   "source": [
    "pickle.dump(GBT, open(\"ECIF6_LD_GBT.pkl\", 'wb'))"
   ]
  }
 ],
 "metadata": {
  "kernelspec": {
   "display_name": "Python 3",
   "language": "python",
   "name": "python3"
  },
  "language_info": {
   "codemirror_mode": {
    "name": "ipython",
    "version": 3
   },
   "file_extension": ".py",
   "mimetype": "text/x-python",
   "name": "python",
   "nbconvert_exporter": "python",
   "pygments_lexer": "ipython3",
   "version": "3.6.10"
  }
 },
 "nbformat": 4,
 "nbformat_minor": 4
}
